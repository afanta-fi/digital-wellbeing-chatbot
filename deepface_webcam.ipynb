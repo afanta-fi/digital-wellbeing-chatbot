{
 "cells": [
  {
   "cell_type": "code",
   "execution_count": 1,
   "metadata": {},
   "outputs": [
    {
     "name": "stdout",
     "output_type": "stream",
     "text": [
      "Directory  C:\\Users\\zeaps /.deepface created\n",
      "Directory  C:\\Users\\zeaps /.deepface/weights created\n"
     ]
    }
   ],
   "source": [
    "import cv2\n",
    "import matplotlib.pyplot as plt \n",
    "from deepface import DeepFace"
   ]
  },
  {
   "cell_type": "code",
   "execution_count": 2,
   "metadata": {},
   "outputs": [],
   "source": [
    "faceCascade = cv2.CascadeClassifier(cv2.data.haarcascades+'haarcascade_frontalface_default.xml') "
   ]
  },
  {
   "cell_type": "code",
   "execution_count": 33,
   "metadata": {},
   "outputs": [],
   "source": [
    "cap = cv2.VideoCapture(0)"
   ]
  },
  {
   "cell_type": "code",
   "execution_count": 35,
   "metadata": {},
   "outputs": [
    {
     "name": "stderr",
     "output_type": "stream",
     "text": [
      "Action: race: 100%|██████████| 4/4 [00:00<00:00,  4.22it/s]   \n"
     ]
    },
    {
     "name": "stdout",
     "output_type": "stream",
     "text": [
      "{'emotion': {'angry': 9.30507406592369, 'disgust': 0.0023038281142362393, 'fear': 12.533038854598999, 'happy': 0.1950094010680914, 'sad': 21.13092541694641, 'surprise': 0.061862042639404535, 'neutral': 56.771790981292725}, 'dominant_emotion': 'neutral', 'region': {'x': 218, 'y': 36, 'w': 280, 'h': 280}, 'age': 29, 'gender': 'Man', 'race': {'asian': 11.042699962854385, 'indian': 12.015916407108307, 'black': 24.36702251434326, 'white': 11.957640945911407, 'middle eastern': 10.382752865552902, 'latino hispanic': 30.233967304229736}, 'dominant_race': 'latino hispanic'}\n"
     ]
    }
   ],
   "source": [
    "idx = 0\n",
    "while True:\n",
    "    ret, frame = cap.read()\n",
    "    result = DeepFace.analyze(frame, actions = ['emotion'])\n",
    "    if idx == 0:\n",
    "        print(DeepFace.analyze(frame))\n",
    "        idx = 1\n",
    "    gray = cv2.cvtColor(frame, cv2.COLOR_BGR2GRAY)\n",
    "    faces = faceCascade.detectMultiScale(gray, 1.3, 5)\n",
    "    for (x, y, w, h) in faces:\n",
    "        cv2.rectangle(frame, (x, y), (x+w, y+h), (0, 255, 0), 2)\n",
    "    font = cv2.FONT_HERSHEY_SIMPLEX\n",
    "    cv2.putText(frame, \n",
    "                result['dominant_emotion'],\n",
    "                (50, 50),\n",
    "                font, 3,\n",
    "                (0, 0, 255),\n",
    "                2, \n",
    "                cv2.LINE_4)\n",
    "    cv2.imshow('Original Video', frame)\n",
    "    if cv2.waitKey(1) & 0xFF == ord('q'):\n",
    "        break\n",
    "cap.release()\n",
    "cv2.destroyAllWindows()    "
   ]
  },
  {
   "cell_type": "code",
   "execution_count": null,
   "metadata": {},
   "outputs": [],
   "source": [
    "DeepFace.build_model()"
   ]
  }
 ],
 "metadata": {
  "kernelspec": {
   "display_name": "Python (learn-env)",
   "language": "python",
   "name": "learn-env"
  },
  "language_info": {
   "codemirror_mode": {
    "name": "ipython",
    "version": 3
   },
   "file_extension": ".py",
   "mimetype": "text/x-python",
   "name": "python",
   "nbconvert_exporter": "python",
   "pygments_lexer": "ipython3",
   "version": "3.8.5"
  },
  "toc": {
   "base_numbering": 1,
   "nav_menu": {},
   "number_sections": true,
   "sideBar": true,
   "skip_h1_title": false,
   "title_cell": "Table of Contents",
   "title_sidebar": "Contents",
   "toc_cell": false,
   "toc_position": {},
   "toc_section_display": true,
   "toc_window_display": false
  }
 },
 "nbformat": 4,
 "nbformat_minor": 4
}
